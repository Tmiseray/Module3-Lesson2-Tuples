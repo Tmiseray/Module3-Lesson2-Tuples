{
 "cells": [
  {
   "cell_type": "code",
   "execution_count": null,
   "metadata": {},
   "outputs": [],
   "source": [
    "\"\"\"\n",
    "Task 1: Library System Enhancement Sharpen your skills in managing and modifying data within tuples and lists.\n",
    "\n",
    "Problem Statement: You are maintaining a library system where each book is stored as a tuple within a list. Your task is to update this system by adding new books and ensuring no duplicates.\n",
    "\n",
    "Existing Library Data:\n",
    "\n",
    "library = [(\"1984\", \"George Orwell\"), (\"Brave New World\", \"Aldous Huxley\")]\n",
    "- Add functionality to insert new books into `library`. Ensure that adding a duplicate book is handled appropriately.\n",
    "\"\"\""
   ]
  },
  {
   "cell_type": "code",
   "execution_count": null,
   "metadata": {},
   "outputs": [],
   "source": []
  }
 ],
 "metadata": {
  "language_info": {
   "name": "python"
  }
 },
 "nbformat": 4,
 "nbformat_minor": 2
}
