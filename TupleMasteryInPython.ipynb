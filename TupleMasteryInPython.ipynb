{
 "cells": [
  {
   "cell_type": "code",
   "execution_count": null,
   "metadata": {},
   "outputs": [],
   "source": [
    "\"\"\"\n",
    "Objective: The aim of this assignment is to deepen your understanding of tuples in Python.\n",
    "\n",
    "Task 1: Formatting Flight Itineraries \n",
    "Create a Python function that takes a list of tuples as an argument. \n",
    "Each tuple contains information about a flight itinerary: (traveler_name, origin, destination). \n",
    "The function should format and return a string that lists each itinerary. \n",
    "For example, if the input is `[(\"Alice\", \"New York\", \"London\"), (\"Bob\", \"Tokyo\", \"San Francisco\")]`, the output should be a string formatted as:\n",
    "\n",
    "\"Itinerary 1: Alice - From New York to London\n",
    " Itinerary 2: Bob - From Tokyo to San Francisco\"\n",
    "\"\"\""
   ]
  },
  {
   "cell_type": "code",
   "execution_count": 1,
   "metadata": {},
   "outputs": [
    {
     "name": "stdout",
     "output_type": "stream",
     "text": [
      "\n",
      "Itinerary 1: Alice - From New York to London\n",
      "\n",
      "Itinerary 2: Bob - From Tokyo to San Francisco\n"
     ]
    }
   ],
   "source": [
    "itineraries = [(\"Alice\", \"New York\", \"London\"), (\"Bob\", \"Tokyo\", \"San Francisco\")]\n",
    "\n",
    "def user_friendly_format(itineraries):\n",
    "    for index, details in enumerate(itineraries):\n",
    "        print(f\"\\nItinerary {index + 1}: {details[0]} - From {details[1]} to {details[-1]}\")\n",
    "\n",
    "user_friendly_format(itineraries)"
   ]
  },
  {
   "cell_type": "code",
   "execution_count": null,
   "metadata": {},
   "outputs": [],
   "source": []
  }
 ],
 "metadata": {
  "kernelspec": {
   "display_name": "Python 3",
   "language": "python",
   "name": "python3"
  },
  "language_info": {
   "codemirror_mode": {
    "name": "ipython",
    "version": 3
   },
   "file_extension": ".py",
   "mimetype": "text/x-python",
   "name": "python",
   "nbconvert_exporter": "python",
   "pygments_lexer": "ipython3",
   "version": "3.12.4"
  }
 },
 "nbformat": 4,
 "nbformat_minor": 2
}
