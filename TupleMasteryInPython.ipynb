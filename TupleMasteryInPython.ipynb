{
 "cells": [
  {
   "cell_type": "code",
   "execution_count": null,
   "metadata": {},
   "outputs": [],
   "source": [
    "\"\"\"\n",
    "Objective: The aim of this assignment is to deepen your understanding of tuples in Python.\n",
    "\n",
    "Task 1: Formatting Flight Itineraries Create a Python function that takes a list of tuples as an argument. Each tuple contains information about a flight itinerary: (traveler_name, origin, destination). The function should format and return a string that lists each itinerary. For example, if the input is `[(\"Alice\", \"New York\", \"London\"), (\"Bob\", \"Tokyo\", \"San Francisco\")]`, the output should be a string formatted as:\n",
    "\n",
    "\"Itinerary 1: Alice - From New York to London\n",
    " Itinerary 2: Bob - From Tokyo to San Francisco\"\n",
    "\"\"\""
   ]
  },
  {
   "cell_type": "code",
   "execution_count": null,
   "metadata": {},
   "outputs": [],
   "source": []
  }
 ],
 "metadata": {
  "language_info": {
   "name": "python"
  }
 },
 "nbformat": 4,
 "nbformat_minor": 2
}
